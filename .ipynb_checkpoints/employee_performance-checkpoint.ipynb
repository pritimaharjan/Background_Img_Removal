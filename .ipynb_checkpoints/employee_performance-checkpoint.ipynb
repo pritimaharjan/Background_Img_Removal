{
 "cells": [
  {
   "cell_type": "code",
   "execution_count": 5,
   "id": "57c0339b-6ab1-42b2-b9a0-0f537391dffd",
   "metadata": {},
   "outputs": [],
   "source": [
    "import pandas as pd\n",
    "import matplotlib.pyplot as plt\n",
    "import seaborn as sns"
   ]
  },
  {
   "cell_type": "code",
   "execution_count": 6,
   "id": "63b7d0c8-ad6b-411b-8e4e-dba337549c90",
   "metadata": {},
   "outputs": [],
   "source": [
    "data_set=pd.read_csv(r\"F:\\Users\\Admin\\Downloads\\employee_performance.csv\")"
   ]
  },
  {
   "cell_type": "code",
   "execution_count": 7,
   "id": "08ef0b69-6d2a-4c85-9f0c-1627f01f4a1a",
   "metadata": {},
   "outputs": [
    {
     "name": "stdout",
     "output_type": "stream",
     "text": [
      "<class 'pandas.core.frame.DataFrame'>\n",
      "RangeIndex: 6 entries, 0 to 5\n",
      "Data columns (total 6 columns):\n",
      " #   Column           Non-Null Count  Dtype  \n",
      "---  ------           --------------  -----  \n",
      " 0   E_ID             6 non-null      int64  \n",
      " 1   E_NAME           6 non-null      object \n",
      " 2   DEPARTMENT       6 non-null      object \n",
      " 3   TASKS_COMPLETED  6 non-null      int64  \n",
      " 4   HOURS_WORKED     6 non-null      int64  \n",
      " 5   RATING           6 non-null      float64\n",
      "dtypes: float64(1), int64(3), object(2)\n",
      "memory usage: 420.0+ bytes\n"
     ]
    }
   ],
   "source": [
    "data_set.info()"
   ]
  },
  {
   "cell_type": "code",
   "execution_count": 8,
   "id": "c0fdc620-af39-4200-bac4-380c67e4fa20",
   "metadata": {},
   "outputs": [
    {
     "data": {
      "text/html": [
       "<div>\n",
       "<style scoped>\n",
       "    .dataframe tbody tr th:only-of-type {\n",
       "        vertical-align: middle;\n",
       "    }\n",
       "\n",
       "    .dataframe tbody tr th {\n",
       "        vertical-align: top;\n",
       "    }\n",
       "\n",
       "    .dataframe thead th {\n",
       "        text-align: right;\n",
       "    }\n",
       "</style>\n",
       "<table border=\"1\" class=\"dataframe\">\n",
       "  <thead>\n",
       "    <tr style=\"text-align: right;\">\n",
       "      <th></th>\n",
       "      <th>E_ID</th>\n",
       "      <th>TASKS_COMPLETED</th>\n",
       "      <th>HOURS_WORKED</th>\n",
       "      <th>RATING</th>\n",
       "    </tr>\n",
       "  </thead>\n",
       "  <tbody>\n",
       "    <tr>\n",
       "      <th>count</th>\n",
       "      <td>6.000000</td>\n",
       "      <td>6.000000</td>\n",
       "      <td>6.000000</td>\n",
       "      <td>6.000000</td>\n",
       "    </tr>\n",
       "    <tr>\n",
       "      <th>mean</th>\n",
       "      <td>3.500000</td>\n",
       "      <td>10.500000</td>\n",
       "      <td>25.333333</td>\n",
       "      <td>4.583333</td>\n",
       "    </tr>\n",
       "    <tr>\n",
       "      <th>std</th>\n",
       "      <td>1.870829</td>\n",
       "      <td>8.689074</td>\n",
       "      <td>28.083210</td>\n",
       "      <td>0.392003</td>\n",
       "    </tr>\n",
       "    <tr>\n",
       "      <th>min</th>\n",
       "      <td>1.000000</td>\n",
       "      <td>4.000000</td>\n",
       "      <td>5.000000</td>\n",
       "      <td>3.900000</td>\n",
       "    </tr>\n",
       "    <tr>\n",
       "      <th>25%</th>\n",
       "      <td>2.250000</td>\n",
       "      <td>5.000000</td>\n",
       "      <td>10.500000</td>\n",
       "      <td>4.500000</td>\n",
       "    </tr>\n",
       "    <tr>\n",
       "      <th>50%</th>\n",
       "      <td>3.500000</td>\n",
       "      <td>7.500000</td>\n",
       "      <td>13.500000</td>\n",
       "      <td>4.600000</td>\n",
       "    </tr>\n",
       "    <tr>\n",
       "      <th>75%</th>\n",
       "      <td>4.750000</td>\n",
       "      <td>11.500000</td>\n",
       "      <td>26.250000</td>\n",
       "      <td>4.850000</td>\n",
       "    </tr>\n",
       "    <tr>\n",
       "      <th>max</th>\n",
       "      <td>6.000000</td>\n",
       "      <td>27.000000</td>\n",
       "      <td>80.000000</td>\n",
       "      <td>5.000000</td>\n",
       "    </tr>\n",
       "  </tbody>\n",
       "</table>\n",
       "</div>"
      ],
      "text/plain": [
       "           E_ID  TASKS_COMPLETED  HOURS_WORKED    RATING\n",
       "count  6.000000         6.000000      6.000000  6.000000\n",
       "mean   3.500000        10.500000     25.333333  4.583333\n",
       "std    1.870829         8.689074     28.083210  0.392003\n",
       "min    1.000000         4.000000      5.000000  3.900000\n",
       "25%    2.250000         5.000000     10.500000  4.500000\n",
       "50%    3.500000         7.500000     13.500000  4.600000\n",
       "75%    4.750000        11.500000     26.250000  4.850000\n",
       "max    6.000000        27.000000     80.000000  5.000000"
      ]
     },
     "execution_count": 8,
     "metadata": {},
     "output_type": "execute_result"
    }
   ],
   "source": [
    "data_set.describe()"
   ]
  },
  {
   "cell_type": "code",
   "execution_count": 9,
   "id": "cd96b1c6-81ac-4b3d-b3b1-f77525b565be",
   "metadata": {},
   "outputs": [
    {
     "data": {
      "text/plain": [
       "Index(['E_ID', 'E_NAME', 'DEPARTMENT', 'TASKS_COMPLETED', 'HOURS_WORKED',\n",
       "       'RATING'],\n",
       "      dtype='object')"
      ]
     },
     "execution_count": 9,
     "metadata": {},
     "output_type": "execute_result"
    }
   ],
   "source": [
    "data_set.columns"
   ]
  },
  {
   "cell_type": "code",
   "execution_count": 10,
   "id": "3e7607bd-9034-4b73-94f5-a5d3d4c7e1b8",
   "metadata": {},
   "outputs": [],
   "source": [
    "data_set[\"DATE\"]=\"2025-01-01\""
   ]
  },
  {
   "cell_type": "code",
   "execution_count": 11,
   "id": "ca6f61e8-0811-4c3e-bdfa-d80986b0faa1",
   "metadata": {},
   "outputs": [
    {
     "data": {
      "text/html": [
       "<div>\n",
       "<style scoped>\n",
       "    .dataframe tbody tr th:only-of-type {\n",
       "        vertical-align: middle;\n",
       "    }\n",
       "\n",
       "    .dataframe tbody tr th {\n",
       "        vertical-align: top;\n",
       "    }\n",
       "\n",
       "    .dataframe thead th {\n",
       "        text-align: right;\n",
       "    }\n",
       "</style>\n",
       "<table border=\"1\" class=\"dataframe\">\n",
       "  <thead>\n",
       "    <tr style=\"text-align: right;\">\n",
       "      <th></th>\n",
       "      <th>E_ID</th>\n",
       "      <th>E_NAME</th>\n",
       "      <th>DEPARTMENT</th>\n",
       "      <th>TASKS_COMPLETED</th>\n",
       "      <th>HOURS_WORKED</th>\n",
       "      <th>RATING</th>\n",
       "      <th>DATE</th>\n",
       "    </tr>\n",
       "  </thead>\n",
       "  <tbody>\n",
       "    <tr>\n",
       "      <th>0</th>\n",
       "      <td>1</td>\n",
       "      <td>Rama Yavad</td>\n",
       "      <td>IT</td>\n",
       "      <td>10</td>\n",
       "      <td>80</td>\n",
       "      <td>4.5</td>\n",
       "      <td>2025-01-01</td>\n",
       "    </tr>\n",
       "    <tr>\n",
       "      <th>1</th>\n",
       "      <td>2</td>\n",
       "      <td>Pratima Shrestha</td>\n",
       "      <td>HR</td>\n",
       "      <td>12</td>\n",
       "      <td>30</td>\n",
       "      <td>4.9</td>\n",
       "      <td>2025-01-01</td>\n",
       "    </tr>\n",
       "    <tr>\n",
       "      <th>2</th>\n",
       "      <td>3</td>\n",
       "      <td>Lorem Tamang</td>\n",
       "      <td>Finance</td>\n",
       "      <td>27</td>\n",
       "      <td>12</td>\n",
       "      <td>4.5</td>\n",
       "      <td>2025-01-01</td>\n",
       "    </tr>\n",
       "    <tr>\n",
       "      <th>3</th>\n",
       "      <td>4</td>\n",
       "      <td>Nima Lama</td>\n",
       "      <td>IT</td>\n",
       "      <td>5</td>\n",
       "      <td>15</td>\n",
       "      <td>4.7</td>\n",
       "      <td>2025-01-01</td>\n",
       "    </tr>\n",
       "    <tr>\n",
       "      <th>4</th>\n",
       "      <td>5</td>\n",
       "      <td>Sornim Adhikari</td>\n",
       "      <td>Manager</td>\n",
       "      <td>4</td>\n",
       "      <td>10</td>\n",
       "      <td>5.0</td>\n",
       "      <td>2025-01-01</td>\n",
       "    </tr>\n",
       "    <tr>\n",
       "      <th>5</th>\n",
       "      <td>6</td>\n",
       "      <td>Sujita Rai</td>\n",
       "      <td>Shift Incharge</td>\n",
       "      <td>5</td>\n",
       "      <td>5</td>\n",
       "      <td>3.9</td>\n",
       "      <td>2025-01-01</td>\n",
       "    </tr>\n",
       "  </tbody>\n",
       "</table>\n",
       "</div>"
      ],
      "text/plain": [
       "   E_ID            E_NAME      DEPARTMENT  TASKS_COMPLETED  HOURS_WORKED  \\\n",
       "0     1        Rama Yavad              IT               10            80   \n",
       "1     2  Pratima Shrestha              HR               12            30   \n",
       "2     3      Lorem Tamang         Finance               27            12   \n",
       "3     4         Nima Lama              IT                5            15   \n",
       "4     5   Sornim Adhikari         Manager                4            10   \n",
       "5     6        Sujita Rai  Shift Incharge                5             5   \n",
       "\n",
       "   RATING        DATE  \n",
       "0     4.5  2025-01-01  \n",
       "1     4.9  2025-01-01  \n",
       "2     4.5  2025-01-01  \n",
       "3     4.7  2025-01-01  \n",
       "4     5.0  2025-01-01  \n",
       "5     3.9  2025-01-01  "
      ]
     },
     "execution_count": 11,
     "metadata": {},
     "output_type": "execute_result"
    }
   ],
   "source": [
    "data_set"
   ]
  },
  {
   "cell_type": "code",
   "execution_count": 12,
   "id": "8cc0e16f-3536-4b92-a97a-501081022a6c",
   "metadata": {},
   "outputs": [
    {
     "data": {
      "text/plain": [
       "E_ID               0\n",
       "E_NAME             0\n",
       "DEPARTMENT         0\n",
       "TASKS_COMPLETED    0\n",
       "HOURS_WORKED       0\n",
       "RATING             0\n",
       "DATE               0\n",
       "dtype: int64"
      ]
     },
     "execution_count": 12,
     "metadata": {},
     "output_type": "execute_result"
    }
   ],
   "source": [
    "data_set.isnull().sum()"
   ]
  },
  {
   "cell_type": "code",
   "execution_count": 13,
   "id": "4de929de-c2c8-4ac1-b456-b50a353fda1b",
   "metadata": {},
   "outputs": [],
   "source": [
    "data_set[\"PRODUCTIVITY\"]=data_set[\"TASKS_COMPLETED\"]/data_set[\"HOURS_WORKED\"]"
   ]
  },
  {
   "cell_type": "code",
   "execution_count": 14,
   "id": "3ad2e8e0-ebda-44c0-99e1-b14fc1e634f0",
   "metadata": {},
   "outputs": [
    {
     "data": {
      "text/html": [
       "<div>\n",
       "<style scoped>\n",
       "    .dataframe tbody tr th:only-of-type {\n",
       "        vertical-align: middle;\n",
       "    }\n",
       "\n",
       "    .dataframe tbody tr th {\n",
       "        vertical-align: top;\n",
       "    }\n",
       "\n",
       "    .dataframe thead th {\n",
       "        text-align: right;\n",
       "    }\n",
       "</style>\n",
       "<table border=\"1\" class=\"dataframe\">\n",
       "  <thead>\n",
       "    <tr style=\"text-align: right;\">\n",
       "      <th></th>\n",
       "      <th>E_ID</th>\n",
       "      <th>E_NAME</th>\n",
       "      <th>DEPARTMENT</th>\n",
       "      <th>TASKS_COMPLETED</th>\n",
       "      <th>HOURS_WORKED</th>\n",
       "      <th>RATING</th>\n",
       "      <th>DATE</th>\n",
       "      <th>PRODUCTIVITY</th>\n",
       "    </tr>\n",
       "  </thead>\n",
       "  <tbody>\n",
       "    <tr>\n",
       "      <th>0</th>\n",
       "      <td>1</td>\n",
       "      <td>Rama Yavad</td>\n",
       "      <td>IT</td>\n",
       "      <td>10</td>\n",
       "      <td>80</td>\n",
       "      <td>4.5</td>\n",
       "      <td>2025-01-01</td>\n",
       "      <td>0.125000</td>\n",
       "    </tr>\n",
       "    <tr>\n",
       "      <th>1</th>\n",
       "      <td>2</td>\n",
       "      <td>Pratima Shrestha</td>\n",
       "      <td>HR</td>\n",
       "      <td>12</td>\n",
       "      <td>30</td>\n",
       "      <td>4.9</td>\n",
       "      <td>2025-01-01</td>\n",
       "      <td>0.400000</td>\n",
       "    </tr>\n",
       "    <tr>\n",
       "      <th>2</th>\n",
       "      <td>3</td>\n",
       "      <td>Lorem Tamang</td>\n",
       "      <td>Finance</td>\n",
       "      <td>27</td>\n",
       "      <td>12</td>\n",
       "      <td>4.5</td>\n",
       "      <td>2025-01-01</td>\n",
       "      <td>2.250000</td>\n",
       "    </tr>\n",
       "    <tr>\n",
       "      <th>3</th>\n",
       "      <td>4</td>\n",
       "      <td>Nima Lama</td>\n",
       "      <td>IT</td>\n",
       "      <td>5</td>\n",
       "      <td>15</td>\n",
       "      <td>4.7</td>\n",
       "      <td>2025-01-01</td>\n",
       "      <td>0.333333</td>\n",
       "    </tr>\n",
       "    <tr>\n",
       "      <th>4</th>\n",
       "      <td>5</td>\n",
       "      <td>Sornim Adhikari</td>\n",
       "      <td>Manager</td>\n",
       "      <td>4</td>\n",
       "      <td>10</td>\n",
       "      <td>5.0</td>\n",
       "      <td>2025-01-01</td>\n",
       "      <td>0.400000</td>\n",
       "    </tr>\n",
       "    <tr>\n",
       "      <th>5</th>\n",
       "      <td>6</td>\n",
       "      <td>Sujita Rai</td>\n",
       "      <td>Shift Incharge</td>\n",
       "      <td>5</td>\n",
       "      <td>5</td>\n",
       "      <td>3.9</td>\n",
       "      <td>2025-01-01</td>\n",
       "      <td>1.000000</td>\n",
       "    </tr>\n",
       "  </tbody>\n",
       "</table>\n",
       "</div>"
      ],
      "text/plain": [
       "   E_ID            E_NAME      DEPARTMENT  TASKS_COMPLETED  HOURS_WORKED  \\\n",
       "0     1        Rama Yavad              IT               10            80   \n",
       "1     2  Pratima Shrestha              HR               12            30   \n",
       "2     3      Lorem Tamang         Finance               27            12   \n",
       "3     4         Nima Lama              IT                5            15   \n",
       "4     5   Sornim Adhikari         Manager                4            10   \n",
       "5     6        Sujita Rai  Shift Incharge                5             5   \n",
       "\n",
       "   RATING        DATE  PRODUCTIVITY  \n",
       "0     4.5  2025-01-01      0.125000  \n",
       "1     4.9  2025-01-01      0.400000  \n",
       "2     4.5  2025-01-01      2.250000  \n",
       "3     4.7  2025-01-01      0.333333  \n",
       "4     5.0  2025-01-01      0.400000  \n",
       "5     3.9  2025-01-01      1.000000  "
      ]
     },
     "execution_count": 14,
     "metadata": {},
     "output_type": "execute_result"
    }
   ],
   "source": [
    "data_set"
   ]
  },
  {
   "cell_type": "code",
   "execution_count": 15,
   "id": "138c7d3d-e2fe-416a-81c8-42f6b6065c1e",
   "metadata": {},
   "outputs": [
    {
     "name": "stdout",
     "output_type": "stream",
     "text": [
      "total task completed: 63\n",
      "average task completed: 10.5\n"
     ]
    }
   ],
   "source": [
    "total_task=data_set[\"TASKS_COMPLETED\"].sum()\n",
    "average_task=data_set[\"TASKS_COMPLETED\"].mean()\n",
    "print(f\"total task completed: {total_task}\")\n",
    "print(f\"average task completed: {average_task}\")\n"
   ]
  },
  {
   "cell_type": "code",
   "execution_count": 16,
   "id": "a300229c-ae24-433b-b15c-e401da7d2d3f",
   "metadata": {},
   "outputs": [
    {
     "data": {
      "text/plain": [
       "Index(['E_ID', 'E_NAME', 'DEPARTMENT', 'TASKS_COMPLETED', 'HOURS_WORKED',\n",
       "       'RATING', 'DATE', 'PRODUCTIVITY'],\n",
       "      dtype='object')"
      ]
     },
     "execution_count": 16,
     "metadata": {},
     "output_type": "execute_result"
    }
   ],
   "source": [
    "data_set.columns"
   ]
  },
  {
   "cell_type": "code",
   "execution_count": 17,
   "id": "1bfc7d9e-8eb3-48a2-baba-5ece0a8c2a65",
   "metadata": {},
   "outputs": [
    {
     "name": "stdout",
     "output_type": "stream",
     "text": [
      "       DEPARTMENT  TASKS_COMPLETED  HOURS_WORKED  RATING\n",
      "0         Finance               27            12     4.5\n",
      "1              HR               12            30     4.9\n",
      "2              IT               15            95     4.6\n",
      "3         Manager                4            10     5.0\n",
      "4  Shift Incharge                5             5     3.9\n"
     ]
    }
   ],
   "source": [
    "D_summary=data_set.groupby(\"DEPARTMENT\").agg({\n",
    "    \"TASKS_COMPLETED\":\"sum\",\n",
    "    \"HOURS_WORKED\":\"sum\",\n",
    "    \"RATING\":\"mean\"}).reset_index()\n",
    "print(D_summary)"
   ]
  },
  {
   "cell_type": "code",
   "execution_count": 18,
   "id": "908c8f32-a341-4506-99ec-86be11f66ab2",
   "metadata": {},
   "outputs": [
    {
     "name": "stdout",
     "output_type": "stream",
     "text": [
      "Top Performers\n",
      "             E_NAME DEPARTMENT  RATING\n",
      "1  Pratima Shrestha         HR     4.9\n",
      "3         Nima Lama         IT     4.7\n",
      "4   Sornim Adhikari    Manager     5.0\n"
     ]
    }
   ],
   "source": [
    "top_performance=data_set[data_set[\"RATING\"]>4.5]\n",
    "print(f\"Top Performers\")\n",
    "print(top_performance[[\"E_NAME\",\"DEPARTMENT\",\"RATING\"]])"
   ]
  },
  {
   "cell_type": "code",
   "execution_count": 19,
   "id": "e147e66d-abf6-4c8c-9266-09f057d241af",
   "metadata": {},
   "outputs": [
    {
     "data": {
      "image/png": "[encoded data removed]",
      "text/plain": [
       "<Figure size 1000x600 with 1 Axes>"
      ]
     },
     "metadata": {},
     "output_type": "display_data"
    }
   ],
   "source": [
    "plt.figure(figsize=(10,6))\n",
    "sns.barplot(data=D_summary ,x=\"DEPARTMENT\",y=\"TASKS_COMPLETED\")\n",
    "plt.title(\"Tasks Completed by Department\")\n",
    "plt.xlabel(\"Department\")\n",
    "plt.ylabel(\"Tasks Completed\")\n",
    "plt.show()"
   ]
  },
  {
   "cell_type": "code",
   "execution_count": 54,
   "id": "c042f005-cca6-4232-a4c6-cf56ce1694b0",
   "metadata": {},
   "outputs": [
    {
     "data": {
      "text/html": [
       "<div>\n",
       "<style scoped>\n",
       "    .dataframe tbody tr th:only-of-type {\n",
       "        vertical-align: middle;\n",
       "    }\n",
       "\n",
       "    .dataframe tbody tr th {\n",
       "        vertical-align: top;\n",
       "    }\n",
       "\n",
       "    .dataframe thead th {\n",
       "        text-align: right;\n",
       "    }\n",
       "</style>\n",
       "<table border=\"1\" class=\"dataframe\">\n",
       "  <thead>\n",
       "    <tr style=\"text-align: right;\">\n",
       "      <th></th>\n",
       "      <th>E_ID</th>\n",
       "      <th>E_NAME</th>\n",
       "      <th>DEPARTMENT</th>\n",
       "      <th>TASKS_COMPLETED</th>\n",
       "      <th>HOURS_WORKED</th>\n",
       "      <th>RATING</th>\n",
       "      <th>DATE</th>\n",
       "      <th>PRODUCTIVITY</th>\n",
       "    </tr>\n",
       "  </thead>\n",
       "  <tbody>\n",
       "    <tr>\n",
       "      <th>0</th>\n",
       "      <td>1</td>\n",
       "      <td>Rama Yavad</td>\n",
       "      <td>IT</td>\n",
       "      <td>10</td>\n",
       "      <td>80</td>\n",
       "      <td>4.5</td>\n",
       "      <td>2025-01-01</td>\n",
       "      <td>0.125000</td>\n",
       "    </tr>\n",
       "    <tr>\n",
       "      <th>1</th>\n",
       "      <td>2</td>\n",
       "      <td>Pratima Shrestha</td>\n",
       "      <td>HR</td>\n",
       "      <td>12</td>\n",
       "      <td>30</td>\n",
       "      <td>4.9</td>\n",
       "      <td>2025-01-01</td>\n",
       "      <td>0.400000</td>\n",
       "    </tr>\n",
       "    <tr>\n",
       "      <th>2</th>\n",
       "      <td>3</td>\n",
       "      <td>Lorem Tamang</td>\n",
       "      <td>Finance</td>\n",
       "      <td>27</td>\n",
       "      <td>12</td>\n",
       "      <td>4.5</td>\n",
       "      <td>2025-01-01</td>\n",
       "      <td>2.250000</td>\n",
       "    </tr>\n",
       "    <tr>\n",
       "      <th>3</th>\n",
       "      <td>4</td>\n",
       "      <td>Nima Lama</td>\n",
       "      <td>IT</td>\n",
       "      <td>5</td>\n",
       "      <td>15</td>\n",
       "      <td>4.7</td>\n",
       "      <td>2025-01-01</td>\n",
       "      <td>0.333333</td>\n",
       "    </tr>\n",
       "    <tr>\n",
       "      <th>4</th>\n",
       "      <td>5</td>\n",
       "      <td>Sornim Adhikari</td>\n",
       "      <td>Manager</td>\n",
       "      <td>4</td>\n",
       "      <td>10</td>\n",
       "      <td>5.0</td>\n",
       "      <td>2025-01-01</td>\n",
       "      <td>0.400000</td>\n",
       "    </tr>\n",
       "    <tr>\n",
       "      <th>5</th>\n",
       "      <td>6</td>\n",
       "      <td>Sujita Rai</td>\n",
       "      <td>Shift Incharge</td>\n",
       "      <td>5</td>\n",
       "      <td>5</td>\n",
       "      <td>3.9</td>\n",
       "      <td>2025-01-01</td>\n",
       "      <td>1.000000</td>\n",
       "    </tr>\n",
       "  </tbody>\n",
       "</table>\n",
       "</div>"
      ],
      "text/plain": [
       "   E_ID            E_NAME      DEPARTMENT  TASKS_COMPLETED  HOURS_WORKED  \\\n",
       "0     1        Rama Yavad              IT               10            80   \n",
       "1     2  Pratima Shrestha              HR               12            30   \n",
       "2     3      Lorem Tamang         Finance               27            12   \n",
       "3     4         Nima Lama              IT                5            15   \n",
       "4     5   Sornim Adhikari         Manager                4            10   \n",
       "5     6        Sujita Rai  Shift Incharge                5             5   \n",
       "\n",
       "   RATING        DATE  PRODUCTIVITY  \n",
       "0     4.5  2025-01-01      0.125000  \n",
       "1     4.9  2025-01-01      0.400000  \n",
       "2     4.5  2025-01-01      2.250000  \n",
       "3     4.7  2025-01-01      0.333333  \n",
       "4     5.0  2025-01-01      0.400000  \n",
       "5     3.9  2025-01-01      1.000000  "
      ]
     },
     "execution_count": 54,
     "metadata": {},
     "output_type": "execute_result"
    }
   ],
   "source": [
    "data_set"
   ]
  },
  {
   "cell_type": "code",
   "execution_count": 60,
   "id": "2668ab5e-35e6-4a50-8f92-da3d3cbcc8cd",
   "metadata": {},
   "outputs": [
    {
     "data": {
      "image/png": "[encoded data removed]",
      "text/plain": [
       "<Figure size 1000x600 with 1 Axes>"
      ]
     },
     "metadata": {},
     "output_type": "display_data"
    }
   ],
   "source": [
    "plt.figure(figsize=(10, 6))\n",
    "sns.histplot(data_set['PRODUCTIVITY'], color='blue')\n",
    "plt.title(\"Employee Productivity Distribution\")\n",
    "plt.xlabel(\"Productivity (Tasks/Hour)\")\n",
    "plt.ylabel(\"Frequency\")\n",
    "plt.show()"
   ]
  },
  {
   "cell_type": "code",
   "execution_count": null,
   "id": "3d74fbde-3edb-4f57-a8ea-0b0dd1042a78",
   "metadata": {},
   "outputs": [],
   "source": []
  },
  {
   "cell_type": "code",
   "execution_count": null,
   "id": "23ae1036-dfef-4d3f-821f-b48099adce21",
   "metadata": {},
   "outputs": [],
   "source": []
  }
 ],
 "metadata": {
  "kernelspec": {
   "display_name": "Python 3 (ipykernel)",
   "language": "python",
   "name": "python3"
  },
  "language_info": {
   "codemirror_mode": {
    "name": "ipython",
    "version": 3
   },
   "file_extension": ".py",
   "mimetype": "text/x-python",
   "name": "python",
   "nbconvert_exporter": "python",
   "pygments_lexer": "ipython3",
   "version": "3.12.3"
  }
 },
 "nbformat": 4,
 "nbformat_minor": 5
}
